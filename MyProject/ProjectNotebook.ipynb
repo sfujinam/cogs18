{
 "cells": [
  {
   "cell_type": "markdown",
   "metadata": {},
   "source": [
    "# Project Description"
   ]
  },
  {
   "cell_type": "markdown",
   "metadata": {},
   "source": [
    "Welcome to EZ-PZ-PW! EZ-PZ-PW is a password bank and generator. EZ-PZ-PW will store your passwords for all your online accounts, while you only have to remember one password for your EZ-PZ-PW account! EZ-PZ-PW can also generate extremely secure passwords for your accounts to prevent any unwanted activity with your accounts. EZ-PZ-PW encrypts your password bank so that nobody other than yourself will be able to access them. All text files that store user information is encrypted. For ease of use, users will be prompted with a text menu for each option that is available to them. \n",
    "EZ-PZ-PW account functionality includes:\n",
    "- Encrypted storage of all EZ-PZ-PW accounts and passwords\n",
    "- Adding new EZ-PZ-PW accounts and storing them to an encrypted file\n",
    "- Changing the password of your EZ-PZ-PW account\n",
    "Once logged in to your EZ-PZ-PW account, you have access to the password bank. The password bank stores the login information for each site. Site login information is stored as an encrypted file, specific to the EZ-PZ-PW account. \n",
    "EZ-PZ-PW password bank functionality:\n",
    "- Adding login information to any site, including multiple logins for the same site\n",
    "- Changing passwords within the password bank\n",
    "- Viewing all previously stored accounts in the password bank\n",
    "- Generating a secure password with a random password generator\n",
    "\n",
    "EZ-PZ-PW can be found on my github at https://github.com/sfujinam/cogs18"
   ]
  },
  {
   "cell_type": "code",
   "execution_count": 2,
   "metadata": {},
   "outputs": [],
   "source": [
    "from my_module.functions import main_menu\n",
    "import random\n",
    "import string\n",
    "import getpass\n",
    "#from IPython.display import clear_output"
   ]
  },
  {
   "cell_type": "markdown",
   "metadata": {},
   "source": [
    "All of the functionality written in class.py and functions.py. Notebook only needs to call the main menu function."
   ]
  },
  {
   "cell_type": "code",
   "execution_count": null,
   "metadata": {},
   "outputs": [],
   "source": [
    "# Welcome screen\n",
    "print('Welcome to EZ-PZ-PW!')\n",
    "\n",
    "#Call main menu function\n",
    "main_menu()\n",
    "   \n",
    "\n"
   ]
  }
 ],
 "metadata": {
  "kernelspec": {
   "display_name": "Python 3",
   "language": "python",
   "name": "python3"
  },
  "language_info": {
   "codemirror_mode": {
    "name": "ipython",
    "version": 3
   },
   "file_extension": ".py",
   "mimetype": "text/x-python",
   "name": "python",
   "nbconvert_exporter": "python",
   "pygments_lexer": "ipython3",
   "version": "3.7.0"
  }
 },
 "nbformat": 4,
 "nbformat_minor": 2
}
